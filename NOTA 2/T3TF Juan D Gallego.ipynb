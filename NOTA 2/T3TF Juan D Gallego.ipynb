{
 "cells": [
  {
   "cell_type": "code",
   "execution_count": 5,
   "metadata": {},
   "outputs": [],
   "source": [
    "# Importar librerias basicas\n",
    "import numpy as np\n",
    "import matplotlib.pyplot as plt\n",
    "import sympy as sym\n",
    "from sympy import core\n",
    "\n",
    "%matplotlib inline\n",
    "plt.style.use('bmh') # estilo de las graficas\n",
    "from IPython.display import Latex # para visualizar ecuaciones en jupyter"
   ]
  },
  {
   "cell_type": "code",
   "execution_count": 6,
   "metadata": {},
   "outputs": [],
   "source": [
    "sym.init_printing()\n",
    "\n",
    "t, w = sym.symbols('t omega', real=True)\n",
    "\n",
    "def fourier_transform(x):\n",
    "    return sym.transforms._fourier_transform(x, t, w, 1, -1, 'Fourier')"
   ]
  },
  {
   "cell_type": "markdown",
   "metadata": {},
   "source": [
    "## 1) T. Fourier Impulso de Dirac\n",
    "\n",
    "La transformación   $\\mathcal{F} \\{ \\delta(t) \\}$  del impulso de Dirac se deriva al introducir  𝛿(𝑡)  en La definición de la transformada de Fourier y la explotación de la propiedad de integracion de la función delta de Dirac.\n",
    "\n",
    "$$\n",
    "\\mathcal{F} \\{ \\delta(t) \\} = \\int_{-\\infty}^{\\infty} \\delta(t) \\, e^{-j \\omega t} dt = 1\n",
    "$$\n",
    " \n",
    "Utilizando el Modulo sympy se puede evaluar la integral o calcular la transformada de fourier de delta\n",
    "\n",
    "```python\n",
    "t, w = sym.symbols('t omega', real=True)\n",
    "\n",
    "X = sym.integrate(sym.DiracDelta(t)*sym.exp(-sym.I*w*t), (t, -sym.oo, sym.oo))\n",
    "```"
   ]
  },
  {
   "cell_type": "code",
   "execution_count": 7,
   "metadata": {},
   "outputs": [
    {
     "data": {
      "image/png": "[encoded data removed]",
      "text/latex": [
       "$\\displaystyle 1$"
      ],
      "text/plain": [
       "1"
      ]
     },
     "execution_count": 7,
     "metadata": {},
     "output_type": "execute_result"
    }
   ],
   "source": [
    "t, w = sym.symbols('t omega', real=True)\n",
    "\n",
    "X = sym.integrate(sym.DiracDelta(t)*sym.exp(-sym.I*w*t), (t, -sym.oo, sym.oo))\n",
    "X"
   ]
  },
  {
   "cell_type": "markdown",
   "metadata": {},
   "source": [
    "```python\n",
    "X = fourier_transform(sym.DiracDelta(t))\n",
    "```"
   ]
  },
  {
   "cell_type": "code",
   "execution_count": 10,
   "metadata": {
    "scrolled": true
   },
   "outputs": [
    {
     "data": {
      "image/png": "[encoded data removed]",
      "text/latex": [
       "$\\displaystyle 1$"
      ],
      "text/plain": [
       "1"
      ]
     },
     "execution_count": 10,
     "metadata": {},
     "output_type": "execute_result"
    }
   ],
   "source": [
    "X = fourier_transform(sym.DiracDelta(t))\n",
    "X"
   ]
  },
  {
   "cell_type": "markdown",
   "metadata": {},
   "source": [
    "## 2) T. Fourier Exponencial decreciente\n",
    "\n",
    "$\\large x(t) = e^{-at} \\mu (t)$\n",
    "\n",
    "para $a = 1$"
   ]
  },
  {
   "cell_type": "code",
   "execution_count": 12,
   "metadata": {},
   "outputs": [
    {
     "data": {
      "image/png": "[encoded data removed]",
      "text/plain": [
       "<Figure size 432x288 with 1 Axes>"
      ]
     },
     "metadata": {
      "needs_background": "light"
     },
     "output_type": "display_data"
    }
   ],
   "source": [
    "a = sym.exp(-t)*sym.Heaviside(t)\n",
    "sym.plot(a, (t, -1, 6), xlabel=r'$t$', ylabel=r'$x(t)$');"
   ]
  },
  {
   "cell_type": "code",
   "execution_count": 13,
   "metadata": {},
   "outputs": [
    {
     "data": {
      "image/png": "[encoded data removed]",
      "text/latex": [
       "$\\displaystyle \\frac{1}{i \\omega + 1}$"
      ],
      "text/plain": [
       "   1   \n",
       "───────\n",
       "ⅈ⋅ω + 1"
      ]
     },
     "execution_count": 13,
     "metadata": {},
     "output_type": "execute_result"
    }
   ],
   "source": [
    "XW = fourier_transform(sym.exp(-t)*sym.Heaviside(t))\n",
    "XW"
   ]
  },
  {
   "cell_type": "code",
   "execution_count": null,
   "metadata": {},
   "outputs": [],
   "source": []
  }
 ],
 "metadata": {
  "kernelspec": {
   "display_name": "Python 3",
   "language": "python",
   "name": "python3"
  },
  "language_info": {
   "codemirror_mode": {
    "name": "ipython",
    "version": 3
   },
   "file_extension": ".py",
   "mimetype": "text/x-python",
   "name": "python",
   "nbconvert_exporter": "python",
   "pygments_lexer": "ipython3",
   "version": "3.8.5"
  }
 },
 "nbformat": 4,
 "nbformat_minor": 4
}
