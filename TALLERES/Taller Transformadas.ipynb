{
 "cells": [
  {
   "cell_type": "markdown",
   "metadata": {},
   "source": [
    "# Taller Transformada de Fourier"
   ]
  },
  {
   "cell_type": "markdown",
   "metadata": {},
   "source": [
    "| $f(t)$                    | $F(\\omega)$               |\n",
    "|:--------------------------|:--------------------------|\n",
    "| $\\large e^{-at}\\mu(t)$           | $\\large \\frac{1}{a+j\\omega}$     |\n",
    "| $\\large te^{-at}\\mu(t)$          | $\\large \\frac{1}{(a+j\\omega)^2}$ |\n",
    "| $\\large |t|$                     | $\\large \\frac{-2}{\\omega^2}$     |\n",
    "| $\\large \\delta(t)$               | $\\large 1$                       |\n",
    "| $\\large 1$                       | $\\large 2\\pi \\delta(\\omega)$     |\n",
    "| $\\large \\mu(t)$                  | $\\large \\pi\\delta(\\omega)+\\frac{1}{j\\omega}$|\n",
    "| $\\large \\cos(\\omega_0t)\\mu(t)$   | $\\large \\frac{\\pi}{2}[\\delta(\\omega - \\omega_0)+\\delta(\\omega + \\omega_0)] + \\frac{j\\omega}{\\omega_0^2 - \\omega^2}$ |\n",
    "| $\\large \\sin(\\omega_0t)\\mu(t)$   | $\\large \\frac{\\pi}{2j}[\\delta(\\omega - \\omega_0)-\\delta(\\omega + \\omega_0)] + \\frac{\\omega_0}{\\omega_0^2 - \\omega^2}$ |\n",
    "| $\\large \\cos(\\omega_0t)$         | $\\large \\pi[\\delta(\\omega - \\omega_0)+\\delta(\\omega + \\omega_0)]$ |\n",
    "| $\\large \\sin(\\omega_0t)$         | $\\large j\\pi[\\delta(\\omega + \\omega_0)- \\delta(\\omega - \\omega_0)]$ |\n",
    "| $\\large e^{-at}\\sin(\\omega_0t)\\mu(t)$ | $\\large \\frac{\\omega_0}{(a+j\\omega)^2 + \\omega_0^2}$|\n",
    "| $\\large \\frac{W}{2\\pi}Sa(\\frac{Wt}{2}) $ | $\\large G_W(\\omega)$|\n",
    "| $\\large G_{\\tau}(t)$ | $\\large \\tau Sa(\\frac{\\omega \\tau}{2}) $ |\n",
    "| $\\large 1-\\frac {|t|}{\\tau} \\ldots \\left| t\\right|  < \\tau \\\\\\large 0\\ldots \\left| t\\right| > \\tau$ | $\\large \\tau [ Sa(\\frac{\\omega \\tau}{2}) ]^2$ |\n",
    "| $\\large e^{-a|t|}$ | $\\large \\frac{2a}{a^2 + \\omega^2}$ |\n",
    "| $\\large e^{-t^2/2\\sigma^2}$ | $\\large \\sigma \\sqrt{2\\pi} e^{-\\sigma^2\\omega^2/2}$ |\n",
    "| $\\large \\delta_T(t)$ | $\\large \\omega_0\\delta_{\\omega_0}(\\omega)$ |"
   ]
  },
  {
   "cell_type": "code",
   "execution_count": null,
   "metadata": {},
   "outputs": [],
   "source": [
    "# Importar librerias basicas\n",
    "import numpy as np\n",
    "import matplotlib.pyplot as plt\n",
    "import sympy as sym\n",
    "\n",
    "%matplotlib inline\n",
    "plt.style.use('bmh') # estilo de las graficas\n",
    "from IPython.display import Latex # para visualizar ecuaciones en jupyter"
   ]
  },
  {
   "cell_type": "code",
   "execution_count": null,
   "metadata": {},
   "outputs": [],
   "source": [
    "sym.init_printing()\n",
    "\n",
    "t, w = sym.symbols('t omega', real=True)\n",
    "\n",
    "def fourier_transform(x):\n",
    "    return sym.integrals.transforms._fourier_transform(x, t, w, 1, -1, 'Fourier')"
   ]
  },
  {
   "cell_type": "markdown",
   "metadata": {},
   "source": [
    "### 1. Transformada de Fourier Exponencial decreciente\n",
    "\n",
    "$\\large f(t) = e^{-at} \\mu (t)$\n",
    "\n",
    "para $a = 1$"
   ]
  },
  {
   "cell_type": "code",
   "execution_count": null,
   "metadata": {},
   "outputs": [],
   "source": [
    "sym.plot(sym.Heaviside(t), (t, -6, 6), xlabel=r'$t$', ylabel=r'$\\mu(t)$')"
   ]
  },
  {
   "cell_type": "code",
   "execution_count": null,
   "metadata": {},
   "outputs": [],
   "source": [
    "sym.plot(sym.exp(-t), (t, -1, 6), xlabel=r'$t$', ylabel=r'$e^{-t}$')"
   ]
  },
  {
   "cell_type": "code",
   "execution_count": null,
   "metadata": {},
   "outputs": [],
   "source": [
    "f = sym.exp(-t)*sym.Heaviside(t)\n",
    "\n",
    "sym.plot(f, (t, -6, 6), xlabel=r'$t$', ylabel=r'$f(t)$')"
   ]
  },
  {
   "cell_type": "code",
   "execution_count": null,
   "metadata": {},
   "outputs": [],
   "source": [
    "FW = fourier_transform(sym.exp(-t)*sym.Heaviside(t))\n",
    "FW"
   ]
  },
  {
   "cell_type": "code",
   "execution_count": null,
   "metadata": {},
   "outputs": [],
   "source": [
    "sym.plot(sym.Abs(FW), (w, -20, 20), xlabel=r'$\\omega$', ylabel=r'$|F(\\omega)|$')"
   ]
  },
  {
   "cell_type": "code",
   "execution_count": null,
   "metadata": {},
   "outputs": [],
   "source": [
    "sym.Abs(FW)"
   ]
  },
  {
   "cell_type": "code",
   "execution_count": null,
   "metadata": {},
   "outputs": [],
   "source": [
    "sym.plot(sym.arg(FW), (w, -20, 20), xlabel=r'$\\omega$', ylabel=r'$\\angle |F(\\omega)|$')"
   ]
  },
  {
   "cell_type": "code",
   "execution_count": null,
   "metadata": {},
   "outputs": [],
   "source": [
    "sym.arg(FW)"
   ]
  },
  {
   "cell_type": "markdown",
   "metadata": {},
   "source": [
    "### 2. Transformada de Fourier\n",
    "\n",
    "$\\large f(t) = t e^{-at} \\mu (t)$\n",
    "\n",
    "para $a = 1$"
   ]
  },
  {
   "cell_type": "code",
   "execution_count": null,
   "metadata": {},
   "outputs": [],
   "source": [
    "f = t*sym.exp(-t)*sym.Heaviside(t)\n",
    "\n",
    "sym.plot(f, (t, -1, 6), xlabel=r'$t$', ylabel=r'$f(t)$')"
   ]
  },
  {
   "cell_type": "code",
   "execution_count": null,
   "metadata": {},
   "outputs": [],
   "source": [
    "FW = fourier_transform(t*sym.exp(-t)*sym.Heaviside(t))\n",
    "FW"
   ]
  },
  {
   "cell_type": "code",
   "execution_count": null,
   "metadata": {},
   "outputs": [],
   "source": [
    "sym.plot(sym.Abs(FW), (w, -20, 20), xlabel=r'$\\omega$', ylabel=r'$|F(\\omega)|$')"
   ]
  },
  {
   "cell_type": "code",
   "execution_count": null,
   "metadata": {},
   "outputs": [],
   "source": [
    "sym.plot(sym.arg(FW), (w, -20, 20), xlabel=r'$\\omega$', ylabel=r'$\\angle |F(\\omega)|$')"
   ]
  },
  {
   "cell_type": "code",
   "execution_count": null,
   "metadata": {},
   "outputs": [],
   "source": [
    "sym.arg(FW)"
   ]
  },
  {
   "cell_type": "markdown",
   "metadata": {},
   "source": [
    "### 3. Transformada de Fourier\n",
    "\n",
    "$\\large f(t) = |t|$"
   ]
  },
  {
   "cell_type": "code",
   "execution_count": null,
   "metadata": {},
   "outputs": [],
   "source": [
    "sym.plot(sym.Abs(t), (t, -6, 6), xlabel=r'$t$', ylabel=r'$|t|$')"
   ]
  },
  {
   "cell_type": "code",
   "execution_count": null,
   "metadata": {},
   "outputs": [],
   "source": [
    "FW = fourier_transform(sym.Abs(t))\n",
    "FW"
   ]
  },
  {
   "cell_type": "code",
   "execution_count": null,
   "metadata": {},
   "outputs": [],
   "source": []
  }
 ],
 "metadata": {
  "kernelspec": {
   "display_name": "comm",
   "language": "python",
   "name": "comm"
  },
  "language_info": {
   "codemirror_mode": {
    "name": "ipython",
    "version": 3
   },
   "file_extension": ".py",
   "mimetype": "text/x-python",
   "name": "python",
   "nbconvert_exporter": "python",
   "pygments_lexer": "ipython3",
   "version": "3.8.5"
  }
 },
 "nbformat": 4,
 "nbformat_minor": 4
}
