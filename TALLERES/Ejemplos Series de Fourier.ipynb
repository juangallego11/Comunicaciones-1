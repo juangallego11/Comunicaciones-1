{
 "cells": [
  {
   "cell_type": "code",
   "execution_count": 1,
   "metadata": {},
   "outputs": [],
   "source": [
    "import sympy as sp\n",
    "\n",
    "t = sp.symbols('t')\n",
    "n = sp.symbols('n', positive=True, integer=True)"
   ]
  },
  {
   "cell_type": "code",
   "execution_count": 2,
   "metadata": {},
   "outputs": [],
   "source": [
    "T = 2; w0 = 2*sp.pi / T"
   ]
  },
  {
   "cell_type": "code",
   "execution_count": null,
   "metadata": {},
   "outputs": [],
   "source": [
    "a0 = 1/T * (sp.integrate(1, (t, 0, 1)) - sp.integrate(1, (t, 1, 2)))\n",
    "sp.pprint(a0)"
   ]
  },
  {
   "cell_type": "code",
   "execution_count": null,
   "metadata": {},
   "outputs": [],
   "source": [
    "an = 2/T * (sp.integrate(sp.cos(n*w0*t), (t, 0, 1)) - sp.integrate(sp.cos(n*w0*t), (t, 1, 2)))\n",
    "sp.pprint(sp.simplify(an))"
   ]
  },
  {
   "cell_type": "code",
   "execution_count": null,
   "metadata": {},
   "outputs": [],
   "source": [
    "bn = 2/T * (sp.integrate(sp.sin(n*w0*t), (t, 0, 1)) - sp.integrate(sp.sin(n*w0*t), (t, 1, 2)))\n",
    "sp.pprint(sp.simplify(bn))"
   ]
  },
  {
   "cell_type": "code",
   "execution_count": null,
   "metadata": {},
   "outputs": [],
   "source": [
    "ft = a0\n",
    "\n",
    "for m in range(1, 20, 2):\n",
    "    ft += (an*sp.cos(n*w0*t) + bn*sp.sin(n*w0*t)).subs(n, m)\n",
    "\n",
    "ft"
   ]
  },
  {
   "cell_type": "code",
   "execution_count": null,
   "metadata": {},
   "outputs": [],
   "source": [
    "sp.plot(ft, (t, -1, 4))"
   ]
  },
  {
   "cell_type": "markdown",
   "metadata": {},
   "source": [
    "Ejemplo"
   ]
  },
  {
   "cell_type": "code",
   "execution_count": 3,
   "metadata": {},
   "outputs": [
    {
     "name": "stdout",
     "output_type": "stream",
     "text": [
      "0.500000000000000\n"
     ]
    }
   ],
   "source": [
    "a0 = 1/T * (sp.integrate(t+1, (t, -1, 0)) - sp.integrate(t-1, (t, 0, 1)))\n",
    "sp.pprint(a0)"
   ]
  },
  {
   "cell_type": "code",
   "execution_count": 4,
   "metadata": {},
   "outputs": [
    {
     "name": "stdout",
     "output_type": "stream",
     "text": [
      "    ⎛        n⎞\n",
      "2.0⋅⎝1 - (-1) ⎠\n",
      "───────────────\n",
      "      2  2     \n",
      "     π ⋅n      \n"
     ]
    }
   ],
   "source": [
    "an = 2/T * (sp.integrate((t+1)*sp.cos(n*w0*t), (t, -1, 0)) - sp.integrate((t-1)*sp.cos(n*w0*t), (t, 0, 1)))\n",
    "sp.pprint(sp.simplify(an))"
   ]
  },
  {
   "cell_type": "code",
   "execution_count": 5,
   "metadata": {},
   "outputs": [
    {
     "name": "stdout",
     "output_type": "stream",
     "text": [
      "0\n"
     ]
    }
   ],
   "source": [
    "bn = 2/T * (sp.integrate((t+1)*sp.sin(n*w0*t), (t, -1, 0)) - sp.integrate((t-1)*sp.sin(n*w0*t), (t, 0, 1)))\n",
    "sp.pprint(sp.simplify(bn))"
   ]
  },
  {
   "cell_type": "code",
   "execution_count": 6,
   "metadata": {},
   "outputs": [
    {
     "data": {
      "text/latex": [
       "$\\displaystyle \\frac{4.0 \\cos{\\left(\\pi t \\right)}}{\\pi^{2}} + \\frac{0.444444444444444 \\cos{\\left(3 \\pi t \\right)}}{\\pi^{2}} + \\frac{0.16 \\cos{\\left(5 \\pi t \\right)}}{\\pi^{2}} + \\frac{0.0816326530612245 \\cos{\\left(7 \\pi t \\right)}}{\\pi^{2}} + \\frac{0.0493827160493827 \\cos{\\left(9 \\pi t \\right)}}{\\pi^{2}} + \\frac{0.0330578512396694 \\cos{\\left(11 \\pi t \\right)}}{\\pi^{2}} + \\frac{0.0236686390532544 \\cos{\\left(13 \\pi t \\right)}}{\\pi^{2}} + \\frac{0.0177777777777778 \\cos{\\left(15 \\pi t \\right)}}{\\pi^{2}} + \\frac{0.013840830449827 \\cos{\\left(17 \\pi t \\right)}}{\\pi^{2}} + \\frac{0.0110803324099723 \\cos{\\left(19 \\pi t \\right)}}{\\pi^{2}} + 0.5$"
      ],
      "text/plain": [
       "4.0*cos(pi*t)/pi**2 + 0.444444444444444*cos(3*pi*t)/pi**2 + 0.16*cos(5*pi*t)/pi**2 + 0.0816326530612245*cos(7*pi*t)/pi**2 + 0.0493827160493827*cos(9*pi*t)/pi**2 + 0.0330578512396694*cos(11*pi*t)/pi**2 + 0.0236686390532544*cos(13*pi*t)/pi**2 + 0.0177777777777778*cos(15*pi*t)/pi**2 + 0.013840830449827*cos(17*pi*t)/pi**2 + 0.0110803324099723*cos(19*pi*t)/pi**2 + 0.5"
      ]
     },
     "execution_count": 6,
     "metadata": {},
     "output_type": "execute_result"
    }
   ],
   "source": [
    "ft = a0\n",
    "\n",
    "for m in range(1, 20, 2):\n",
    "    ft += (an*sp.cos(n*w0*t) + bn*sp.sin(n*w0*t)).subs(n, m)\n",
    "\n",
    "ft"
   ]
  },
  {
   "cell_type": "code",
   "execution_count": 7,
   "metadata": {},
   "outputs": [
    {
     "data": {
      "image/png": "[encoded data removed]",
      "text/plain": [
       "<Figure size 432x288 with 1 Axes>"
      ]
     },
     "metadata": {
      "needs_background": "light"
     },
     "output_type": "display_data"
    },
    {
     "data": {
      "text/plain": [
       "<sympy.plotting.plot.Plot at 0x7fa49104cee0>"
      ]
     },
     "execution_count": 7,
     "metadata": {},
     "output_type": "execute_result"
    }
   ],
   "source": [
    "sp.plot(ft, (t, -1, 4))"
   ]
  },
  {
   "cell_type": "markdown",
   "metadata": {},
   "source": [
    "# Ejercicio"
   ]
  },
  {
   "cell_type": "markdown",
   "metadata": {},
   "source": [
    "Encontrar la serie de Fourier de las siguientes señales periódicas. Lo deben hacer manualmente y verificar usando Python."
   ]
  },
  {
   "cell_type": "markdown",
   "metadata": {},
   "source": [
    "Ejercicio 15, pagina 104 del libro de Lathi"
   ]
  },
  {
   "cell_type": "code",
   "execution_count": null,
   "metadata": {},
   "outputs": [],
   "source": []
  }
 ],
 "metadata": {
  "kernelspec": {
   "display_name": "comm",
   "language": "python",
   "name": "comm"
  },
  "language_info": {
   "codemirror_mode": {
    "name": "ipython",
    "version": 3
   },
   "file_extension": ".py",
   "mimetype": "text/x-python",
   "name": "python",
   "nbconvert_exporter": "python",
   "pygments_lexer": "ipython3",
   "version": "3.8.5"
  }
 },
 "nbformat": 4,
 "nbformat_minor": 4
}
